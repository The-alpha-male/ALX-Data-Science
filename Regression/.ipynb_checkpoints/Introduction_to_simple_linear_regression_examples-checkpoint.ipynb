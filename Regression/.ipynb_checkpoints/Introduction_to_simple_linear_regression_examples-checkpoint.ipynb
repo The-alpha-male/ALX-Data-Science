{
 "cells": [
  {
   "cell_type": "markdown",
   "metadata": {},
   "source": [
    "<div align=\"center\" style=\" font-size: 80%; text-align: center; margin: 0 auto\">\n",
    "<img src=\"https://raw.githubusercontent.com/Explore-AI/Pictures/master/Python-Notebook-Banners/Examples.png\"  style=\"display: block; margin-left: auto; margin-right: auto;\";/>\n",
    "</div>"
   ]
  },
  {
   "cell_type": "markdown",
   "metadata": {},
   "source": [
    "# Examples: Introduction to simple linear regression\n",
    "© ExploreAI Academy"
   ]
  },
  {
   "cell_type": "markdown",
   "metadata": {},
   "source": [
    "## Learning objectives\n",
    "\n",
    "In this train, we will:\n",
    "- Explore the fundamentals of simple linear regression and how it uses the relationship between two variables to predict outcomes.\n",
    "- Learn how to create scatter plots and find the line of best fit in Python.\n",
    "\n"
   ]
  },
  {
   "cell_type": "markdown",
   "metadata": {
    "colab_type": "text",
    "id": "-Gy-_syswGfe"
   },
   "source": [
    "## What is simple linear regression?\n",
    "\n",
    "Simple linear regression is a statistical method that allows us to understand and predict the relationship between **two continuous** variables. One variable, denoted as `y`, is considered the dependent variable, and the other, denoted as `x`, is considered the independent variable. The goal of simple linear regression is to model the linear relationship between these two variables through a linear equation of the form: \n",
    "\n",
    "```y = mx + c```\n",
    "\n",
    "In this equation:\n",
    "- `y` is the dependent variable we aim to predict or understand.\n",
    "- `x` is the independent variable used for prediction.\n",
    "- `m` is the slope of the line, representing how much `y` changes for a one-unit change in `x`.\n",
    "- `c` is the y-intercept, indicating the value of `y` when `x` is `0`.\n",
    "\n",
    "## Why we use it\n",
    "Simple linear regression is widely used for several key reasons:\n",
    "- **Prediction:** It enables the prediction of the dependent variable's value based on the independent variable. For instance, predicting the yield of a crop based on the altitude it is grown at.\n",
    "- **Inference:** It provides insights into the relationship between the two variables, including the direction and strength of this relationship. It helps in understanding how significant the independent variable is in explaining variations in the dependent variable.\n",
    "- **Simplicity:** Its straightforwardness makes it an accessible tool for modelling linear relationships, offering a clear starting point for regression analysis before considering more complex models.\n",
    "\n",
    "## When we use it\n",
    "Simple linear regression is applicable under certain conditions:\n",
    "- **Linear relationship:** The method assumes a linear relationship between the independent and dependent variables. Preliminary scatter plot analysis can help verify this assumption.\n",
    "- **Homoscedasticity:** The variability (or spread) of the dependent variable should be consistent across all values of the independent variable.\n",
    "- **Independence:** Each observation's residuals should be independent, ensuring no correlation between them for reliable statistical inference.\n",
    "- **Normality:** For purposes of statistical inference, the residuals of the model should ideally follow a normal distribution."
   ]
  },
  {
   "cell_type": "markdown",
   "metadata": {
    "colab_type": "text",
    "id": "hesQBcKbwGfg"
   },
   "source": [
    "## Implementing simple linear regression in Python\n",
    "\n",
    " We can use libraries such as NumPy, Pandas, and scikit-learn to model the relationships between variables in Python. This allows us to uncover insights and predict outcomes using the model."
   ]
  },
  {
   "cell_type": "markdown",
   "metadata": {},
   "source": [
    "## Examples\n",
    "\n",
    "### Example 1\n",
    "\n",
    "First, we will import the Python libraries which we will need to work with."
   ]
  },
  {
   "cell_type": "code",
   "execution_count": 1,
   "metadata": {
    "colab": {},
    "colab_type": "code",
    "id": "fZaHdEwfwGfi"
   },
   "outputs": [],
   "source": [
    "import numpy as np\n",
    "import pandas as pd\n",
    "import matplotlib.pyplot as plt\n",
    "from matplotlib import rc"
   ]
  },
  {
   "cell_type": "markdown",
   "metadata": {
    "colab_type": "text",
    "id": "lQVWcdc-wGfn"
   },
   "source": [
    "**Next** we will load our data as a Pandas DataFrame."
   ]
  },
  {
   "cell_type": "code",
   "execution_count": 2,
   "metadata": {
    "colab": {},
    "colab_type": "code",
    "id": "CRjuWP__wGfo"
   },
   "outputs": [],
   "source": [
    "df = pd.read_csv('https://github.com/Explore-AI/Public-Data/blob/master/exports%20ZAR-USD-data.csv?raw=true', index_col=0)"
   ]
  },
  {
   "cell_type": "code",
   "execution_count": 3,
   "metadata": {
    "colab": {
     "base_uri": "https://localhost:8080/",
     "height": 359
    },
    "colab_type": "code",
    "id": "54sTKsLLwGfr",
    "outputId": "779e4446-fd59-40ae-849f-de8a1f2bd80e"
   },
   "outputs": [
    {
     "data": {
      "text/html": [
       "<div>\n",
       "<style scoped>\n",
       "    .dataframe tbody tr th:only-of-type {\n",
       "        vertical-align: middle;\n",
       "    }\n",
       "\n",
       "    .dataframe tbody tr th {\n",
       "        vertical-align: top;\n",
       "    }\n",
       "\n",
       "    .dataframe thead th {\n",
       "        text-align: right;\n",
       "    }\n",
       "</style>\n",
       "<table border=\"1\" class=\"dataframe\">\n",
       "  <thead>\n",
       "    <tr style=\"text-align: right;\">\n",
       "      <th></th>\n",
       "      <th>ZAR/USD</th>\n",
       "      <th>Value of Exports (ZAR)</th>\n",
       "    </tr>\n",
       "  </thead>\n",
       "  <tbody>\n",
       "    <tr>\n",
       "      <th>2008M01</th>\n",
       "      <td>7.01</td>\n",
       "      <td>39356.82</td>\n",
       "    </tr>\n",
       "    <tr>\n",
       "      <th>2008M02</th>\n",
       "      <td>7.66</td>\n",
       "      <td>46946.33</td>\n",
       "    </tr>\n",
       "    <tr>\n",
       "      <th>2008M03</th>\n",
       "      <td>7.97</td>\n",
       "      <td>51150.89</td>\n",
       "    </tr>\n",
       "    <tr>\n",
       "      <th>2008M04</th>\n",
       "      <td>7.79</td>\n",
       "      <td>56174.34</td>\n",
       "    </tr>\n",
       "    <tr>\n",
       "      <th>2008M05</th>\n",
       "      <td>7.62</td>\n",
       "      <td>56240.45</td>\n",
       "    </tr>\n",
       "    <tr>\n",
       "      <th>2008M06</th>\n",
       "      <td>7.92</td>\n",
       "      <td>60159.93</td>\n",
       "    </tr>\n",
       "    <tr>\n",
       "      <th>2008M07</th>\n",
       "      <td>7.63</td>\n",
       "      <td>61268.16</td>\n",
       "    </tr>\n",
       "    <tr>\n",
       "      <th>2008M08</th>\n",
       "      <td>7.66</td>\n",
       "      <td>60390.94</td>\n",
       "    </tr>\n",
       "    <tr>\n",
       "      <th>2008M09</th>\n",
       "      <td>8.06</td>\n",
       "      <td>61067.34</td>\n",
       "    </tr>\n",
       "    <tr>\n",
       "      <th>2008M10</th>\n",
       "      <td>9.74</td>\n",
       "      <td>65652.57</td>\n",
       "    </tr>\n",
       "  </tbody>\n",
       "</table>\n",
       "</div>"
      ],
      "text/plain": [
       "         ZAR/USD  Value of Exports (ZAR)\n",
       "2008M01     7.01                39356.82\n",
       "2008M02     7.66                46946.33\n",
       "2008M03     7.97                51150.89\n",
       "2008M04     7.79                56174.34\n",
       "2008M05     7.62                56240.45\n",
       "2008M06     7.92                60159.93\n",
       "2008M07     7.63                61268.16\n",
       "2008M08     7.66                60390.94\n",
       "2008M09     8.06                61067.34\n",
       "2008M10     9.74                65652.57"
      ]
     },
     "execution_count": 3,
     "metadata": {},
     "output_type": "execute_result"
    }
   ],
   "source": [
    "# view the first 10 rows of the DataFrame\n",
    "df.head(10)"
   ]
  },
  {
   "cell_type": "markdown",
   "metadata": {
    "colab_type": "text",
    "id": "aHvAIG6UwGfy"
   },
   "source": [
    "So it looks like we have some monthly data for both the Rand:Dollar exchange rate and the value of South African exports.   \n",
    "\n",
    "In this case, we will choose the Rand:Dollar exchange rate as our dependent variable and the monthly value of exports (in Rands) as our independent variable – i.e. we are going to use exports as a predictor for currency value.\n",
    "\n",
    "For ease of future reference, let's change our column names to reflect the notation which we'll be following going forward:"
   ]
  },
  {
   "cell_type": "code",
   "execution_count": 4,
   "metadata": {
    "colab": {
     "base_uri": "https://localhost:8080/",
     "height": 204
    },
    "colab_type": "code",
    "id": "MP52b7KVwGfz",
    "outputId": "60d92002-86f1-48ea-8849-b1e91766be19"
   },
   "outputs": [
    {
     "data": {
      "text/html": [
       "<div>\n",
       "<style scoped>\n",
       "    .dataframe tbody tr th:only-of-type {\n",
       "        vertical-align: middle;\n",
       "    }\n",
       "\n",
       "    .dataframe tbody tr th {\n",
       "        vertical-align: top;\n",
       "    }\n",
       "\n",
       "    .dataframe thead th {\n",
       "        text-align: right;\n",
       "    }\n",
       "</style>\n",
       "<table border=\"1\" class=\"dataframe\">\n",
       "  <thead>\n",
       "    <tr style=\"text-align: right;\">\n",
       "      <th></th>\n",
       "      <th>Y</th>\n",
       "      <th>X</th>\n",
       "    </tr>\n",
       "  </thead>\n",
       "  <tbody>\n",
       "    <tr>\n",
       "      <th>2008M01</th>\n",
       "      <td>7.01</td>\n",
       "      <td>39356.82</td>\n",
       "    </tr>\n",
       "    <tr>\n",
       "      <th>2008M02</th>\n",
       "      <td>7.66</td>\n",
       "      <td>46946.33</td>\n",
       "    </tr>\n",
       "    <tr>\n",
       "      <th>2008M03</th>\n",
       "      <td>7.97</td>\n",
       "      <td>51150.89</td>\n",
       "    </tr>\n",
       "    <tr>\n",
       "      <th>2008M04</th>\n",
       "      <td>7.79</td>\n",
       "      <td>56174.34</td>\n",
       "    </tr>\n",
       "    <tr>\n",
       "      <th>2008M05</th>\n",
       "      <td>7.62</td>\n",
       "      <td>56240.45</td>\n",
       "    </tr>\n",
       "  </tbody>\n",
       "</table>\n",
       "</div>"
      ],
      "text/plain": [
       "            Y         X\n",
       "2008M01  7.01  39356.82\n",
       "2008M02  7.66  46946.33\n",
       "2008M03  7.97  51150.89\n",
       "2008M04  7.79  56174.34\n",
       "2008M05  7.62  56240.45"
      ]
     },
     "execution_count": 4,
     "metadata": {},
     "output_type": "execute_result"
    }
   ],
   "source": [
    "df.columns = ['Y', 'X'] # Rename the columns of the DataFrame to 'Y' and 'X'\n",
    "df.head() # Display the first few rows of the DataFrame to verify the column renaming"
   ]
  },
  {
   "cell_type": "markdown",
   "metadata": {
    "colab_type": "text",
    "id": "pMIc9cDJwGf6"
   },
   "source": [
    "**Let's create a few plots of the data** using the matplotlib library."
   ]
  },
  {
   "cell_type": "markdown",
   "metadata": {},
   "source": [
    " Let's create a plot to visualise the exchange rate of the South African Rand (ZAR) against the US Dollar (USD) over time. This provides insights into currency value fluctuations across the observed months."
   ]
  },
  {
   "cell_type": "code",
   "execution_count": 5,
   "metadata": {
    "colab": {
     "base_uri": "https://localhost:8080/",
     "height": 347
    },
    "colab_type": "code",
    "id": "xXksfFOIwGf8",
    "outputId": "826be2b9-9627-468a-cd30-fb4086d88b44"
   },
   "outputs": [
    {
     "data": {
      "image/png": "[encoded data removed]",
      "text/plain": [
       "<Figure size 640x480 with 1 Axes>"
      ]
     },
     "metadata": {},
     "output_type": "display_data"
    }
   ],
   "source": [
    "# Plotting the ZAR/USD exchange rate over time\n",
    "plt.plot(np.arange(len(df.Y)), df.Y) # Create a line plot for the ZAR/USD values\n",
    "plt.title(\"ZAR/USD over time\") # Title of the plot\n",
    "plt.xlabel(\"Months\") # Label for the x-axis \n",
    "plt.ylabel(\"ZAR/USD\") # Label for the y-axis\n",
    "plt.show() # Display the plot"
   ]
  },
  {
   "cell_type": "markdown",
   "metadata": {},
   "source": [
    " Let's create a plot to visualise the value of exports from South Africa, measured in millions of ZAR. This helps show us any trends in export activity and economic performance over the same period."
   ]
  },
  {
   "cell_type": "code",
   "execution_count": 8,
   "metadata": {},
   "outputs": [
    {
     "data": {
      "text/plain": [
       "array([  0,   1,   2,   3,   4,   5,   6,   7,   8,   9,  10,  11,  12,\n",
       "        13,  14,  15,  16,  17,  18,  19,  20,  21,  22,  23,  24,  25,\n",
       "        26,  27,  28,  29,  30,  31,  32,  33,  34,  35,  36,  37,  38,\n",
       "        39,  40,  41,  42,  43,  44,  45,  46,  47,  48,  49,  50,  51,\n",
       "        52,  53,  54,  55,  56,  57,  58,  59,  60,  61,  62,  63,  64,\n",
       "        65,  66,  67,  68,  69,  70,  71,  72,  73,  74,  75,  76,  77,\n",
       "        78,  79,  80,  81,  82,  83,  84,  85,  86,  87,  88,  89,  90,\n",
       "        91,  92,  93,  94,  95,  96,  97,  98,  99, 100, 101, 102, 103,\n",
       "       104, 105, 106, 107, 108, 109, 110, 111, 112, 113, 114, 115, 116,\n",
       "       117, 118, 119])"
      ]
     },
     "execution_count": 8,
     "metadata": {},
     "output_type": "execute_result"
    }
   ],
   "source": [
    "# Checking the length of y-axis\n",
    "length = np.arange(len(df.Y))\n",
    "length"
   ]
  },
  {
   "cell_type": "code",
   "execution_count": 9,
   "metadata": {
    "colab": {
     "base_uri": "https://localhost:8080/",
     "height": 350
    },
    "colab_type": "code",
    "id": "yKFr1mV3wGgB",
    "outputId": "0f49c577-0e00-461f-abd3-9fd47aa5f838"
   },
   "outputs": [
    {
     "data": {
      "image/png": "[encoded data removed]",
      "text/plain": [
       "<Figure size 640x480 with 1 Axes>"
      ]
     },
     "metadata": {},
     "output_type": "display_data"
    }
   ],
   "source": [
    "# Plotting the value of exports over time\n",
    "plt.plot(np.arange(len(df.X)), df.X) # Create a line plot for the export values\n",
    "plt.title(\"Value of Exports over time\") # Title of the plot\n",
    "plt.xlabel(\"Months\") # Label for the x-axis\n",
    "plt.ylabel(\"Exports (ZAR, millions)\") # Label for the y-axis\n",
    "plt.show() # Display the plot"
   ]
  },
  {
   "cell_type": "markdown",
   "metadata": {
    "colab_type": "text",
    "id": "ckPCIIKwwGgF"
   },
   "source": [
    "### Example 2\n",
    "Let's try and create something a little more visually appealing than the two plots above.\n",
    "\n",
    "- We'll plot both dependent data series on the same graph.\n",
    "- We'll assign two separate y-axes: one for each series.\n",
    "- We'll display a legend near the top of the plot."
   ]
  },
  {
   "cell_type": "code",
   "execution_count": null,
   "metadata": {
    "colab": {
     "base_uri": "https://localhost:8080/",
     "height": 364
    },
    "colab_type": "code",
    "id": "pGslddtrwGgG",
    "outputId": "24d6e75b-e092-4967-f346-6d1a57ac65a7"
   },
   "outputs": [],
   "source": [
    "rc('mathtext', default='regular') # Set the default style for math text in plots to regular text\n",
    "fig = plt.figure() # Create a blank figure object to hold the plots\n",
    "\n",
    "# Add a subplot to the figure, '111' means 1x1 grid, first subplot\n",
    "ax = fig.add_subplot(111) \n",
    "\n",
    "# Plot the ZAR/USD exchange rate data on the primary y-axis using an orange line\n",
    "ax.plot(np.arange(len(df.Y)), df.Y, '-', label = 'ZAR/USD', color='orange') \n",
    "\n",
    "# Create a second y-axis (twin of the first) to accommodate another data set on the same x-axis\n",
    "ax2 = ax.twinx() \n",
    "\n",
    "# Plot the Value of Exports data on the secondary y-axis\n",
    "ax2.plot(np.arange(len(df.X)), df.X, '-', label = 'Exports (ZAR)')\n",
    "\n",
    "# Add legends to distinguish the two lines, with custom locations for clarity\n",
    "ax.legend(loc=2)  # Legend for the primary axis (ZAR/USD) at the top left (location 2)\n",
    "ax2.legend(loc=9)  # Legend for the secondary axis (Exports) at the top centre (location 9)\n",
    "\n",
    "ax.grid() # Enable grid for better readability of the plot\n",
    "\n",
    "# Set the labels for the x-axis and both y-axes to indicate the data being plotted\n",
    "ax.set_xlabel(\"Months\")\n",
    "ax.set_ylabel(\"ZAR/USD\")\n",
    "ax2.set_ylabel(\"Exports (ZAR, millions)\")\n",
    "\n",
    "plt.show() # Display the plot"
   ]
  },
  {
   "cell_type": "markdown",
   "metadata": {
    "colab_type": "text",
    "id": "oe7FkXzVwGgL"
   },
   "source": [
    "# Let's get started with regression\n",
    "So the plots above – although they are easy to interpret – show too many variables. We have our Y, our X, and time (months), but we're just trying to model ZAR/USD as a *function* of Exports.   \n",
    "\n",
    "**Note:** It's important to note here that we are **not** trying to model the exchange rate as a function of time.\n",
    "   \n",
    "### Example 3\n",
    "Let's try and show the relationship between the two variables using a scatter plot."
   ]
  },
  {
   "cell_type": "code",
   "execution_count": null,
   "metadata": {
    "colab": {
     "base_uri": "https://localhost:8080/",
     "height": 347
    },
    "colab_type": "code",
    "id": "8NQSSMMKwGgM",
    "outputId": "07bed392-b667-4c6d-8b0b-b15f9a98db39"
   },
   "outputs": [],
   "source": [
    "# Plot the original dataset with 'X' as Value of Exports and 'Y' as ZAR/USD exchange rate using a scatter plot\n",
    "plt.scatter(df['X'], df['Y'])\n",
    "plt.ylabel(\"ZAR/USD\")\n",
    "plt.xlabel(\"Value of Exports (ZAR, millions)\")\n",
    "plt.show()"
   ]
  },
  {
   "cell_type": "markdown",
   "metadata": {
    "colab_type": "text",
    "id": "I-fG1Qd4wGgS"
   },
   "source": [
    "From the plot above, we can see that there possibly exists a linear relationship between the two variables: **Value of Exports** and **ZAR/USD**, due to the linear trend of the data."
   ]
  },
  {
   "cell_type": "markdown",
   "metadata": {
    "colab_type": "text",
    "id": "XwB6QIM8wGgT"
   },
   "source": [
    "We would like to be able to fit a line to this data such that we can make predictions of Y for new values of X. We would like to calculate values for the slope, $m$, and the y-intercept, $c$, such that the line represented by $y = mx + c$ lies as close as possible to the points shown in the scatter plot above.\n",
    "\n",
    "## Finding the best fit line\n",
    "Let's say we have estimated some values for $m$ and $c$. We could plug in all of our values of X to find the corresponding values of Y. These *new* values of Y could be compared to the *actual* values of Y to assess the fit of the line. This becomes tedious as the number of data points increases.\n",
    "\n",
    "### Example 4\n",
    "   \n",
    "Looking at the data, we can guess the values of the slope and intercept of the line. We'll use a rough estimate of the slope as $\\frac{rise}{run} = \\frac{16}{80000} = 0.0002$. For the intercept, we'll just take a guess and call it $-3$.   \n",
    "   \n",
    "Let's plot a line with values of $m = 0.0002$ and $c = -3$.\n",
    "   \n",
    "First, we will need to generate some values of y using the following formula:\n",
    "   \n",
    "$$\\hat{y}_i = mx_i + c$$   \n",
    "   "
   ]
  },
  {
   "cell_type": "code",
   "execution_count": null,
   "metadata": {
    "colab": {
     "base_uri": "https://localhost:8080/",
     "height": 347
    },
    "colab_type": "code",
    "id": "YtFcdsX2wGgV",
    "outputId": "da09c99b-0b80-4374-8fb6-a1b22774b671"
   },
   "outputs": [],
   "source": [
    "# Define a function to generate predicted values of 'Y' (ZAR/USD) for a given list of 'X' (Value of Exports),\n",
    "# based on linear equation parameters 'm' (slope) and 'c' (intercept)\n",
    "\n",
    "def gen_y(x_list, m, c):\n",
    "    y_gen = []\n",
    "    for x_i in x_list:  # Loop through each value in the list of 'X'\n",
    "        y_i = m*x_i + c # Calculate the corresponding 'Y' value using the linear equation\n",
    "        y_gen.append(y_i) # Append the calculated 'Y' value to the list\n",
    "    \n",
    "    return(y_gen) # Return the list of generated 'Y' values\n",
    "\n",
    "# Generate the predicted 'Y' values using the 'gen_y' function with specified 'm' and 'c' parameters\n",
    "y_gen = gen_y(df.X, 0.0002, -3)\n",
    "\n",
    "# Plot the original data and the linear regression line\n",
    "plt.scatter(df.X, df.Y) # Plot the original data as a scatter plot\n",
    "plt.plot(df.X, y_gen, color='red') # Plot the generated 'Y' values as a line in red to represent the linear model\n",
    "plt.ylabel(\"ZAR/USD\")\n",
    "plt.xlabel(\"Value of Exports (ZAR, millions)\")\n",
    "plt.show()"
   ]
  },
  {
   "cell_type": "markdown",
   "metadata": {
    "colab_type": "text",
    "id": "xNbwqEidwGgb"
   },
   "source": [
    "At first glance, it looks like the fit of this line is not too bad!   \n",
    "\n",
    "### Example 5\n",
    "   \n",
    "**Let's check the calculated fit of the line** by measuring how far the true y-values of each point are from their corresponding y-value on the line.   \n",
    "   \n",
    "We'll use the equation below to calculate the error of each generated value of y:   \n",
    "   \n",
    "$$e_i = y_i - \\hat{y}_i$$   \n",
    "   "
   ]
  },
  {
   "cell_type": "code",
   "execution_count": null,
   "metadata": {
    "colab": {
     "base_uri": "https://localhost:8080/",
     "height": 255
    },
    "colab_type": "code",
    "id": "HJvc499VwGgc",
    "outputId": "1e166477-38b2-42d8-a816-d5020d16d15e"
   },
   "outputs": [],
   "source": [
    "errors = np.array(df.Y - y_gen)\n",
    "np.round(errors, 2)"
   ]
  },
  {
   "cell_type": "markdown",
   "metadata": {
    "colab_type": "text",
    "id": "xBo24PnSwGgi"
   },
   "source": [
    "When looking at the errors, we see that some of our predictions are off by almost R6!\n",
    "\n",
    "Let's take a look at a distribution of our errors (using a histogram)."
   ]
  },
  {
   "cell_type": "code",
   "execution_count": null,
   "metadata": {
    "colab": {
     "base_uri": "https://localhost:8080/",
     "height": 347
    },
    "colab_type": "code",
    "id": "kEWqVKdbwGgj",
    "outputId": "f8bd37c6-09ca-4a27-fb05-da91934fd3e2"
   },
   "outputs": [],
   "source": [
    "plt.hist(errors)\n",
    "plt.show()"
   ]
  },
  {
   "cell_type": "markdown",
   "metadata": {
    "colab_type": "text",
    "id": "rMADYsh9wGgp"
   },
   "source": [
    "In addition to having some very large errors, we can also see that most of the errors are negative numbers. Ideally, we want our errors to be evenly distributed on either side of zero – we want our line to best fit the data, i.e. no bias.\n",
    "   \n",
    "We can measure the overall error of the fit by calculating the **residual sum of squares**:\n",
    "   \n",
    "$$RSS = \\sum_{i=1}^n(y_i-\\hat{y}_i)^2$$\n",
    "\n",
    "The RSS finds the difference between the y-value of each data point and our estimated line (which may be either negative or positive), squares the difference, and then adds all the differences up. In other words, it's the sum of the squares of all the errors we calculated before."
   ]
  },
  {
   "cell_type": "code",
   "execution_count": null,
   "metadata": {
    "colab": {
     "base_uri": "https://localhost:8080/",
     "height": 34
    },
    "colab_type": "code",
    "id": "wJO0XX5vwGgr",
    "outputId": "0bfa2fa5-cf60-47a5-da04-67c09bf5ee2b"
   },
   "outputs": [],
   "source": [
    "print(\"Residual sum of squares:\", (errors ** 2).sum())"
   ]
  },
  {
   "cell_type": "markdown",
   "metadata": {},
   "source": [
    "An RSS value of `867` indicates that the model's predictions are significantly deviating from the actual data points. A high RSS value suggests that the simple linear regression model does not capture the underlying pattern effectively, leading to inaccurate predictions and implying a poor fit between the model and the observed data. However, in this case, the RSS value is high because we guessed the values for `m` and `c`. Instead of doing this, we can employ mathematical techniques to find the optimal value for `m` and `c`, which can significantly enhance model accuracy and fit.\n",
    "\n",
    "**Note:** The RSS is influenced by the scale of the data being forecasted, meaning that for forecasts involving large values, such as in billions, the RSS will also likely be a large number, reflecting the squared deviations of these large values."
   ]
  },
  {
   "cell_type": "markdown",
   "metadata": {},
   "source": [
    "#  \n",
    "\n",
    "<div align=\"center\" style=\" font-size: 80%; text-align: center; margin: 0 auto\">\n",
    "<img src=\"https://raw.githubusercontent.com/Explore-AI/Pictures/master/ExploreAI_logos/EAI_Blue_Dark.png\"  style=\"width:200px\";/>\n",
    "</div>"
   ]
  }
 ],
 "metadata": {
  "colab": {
   "collapsed_sections": [],
   "name": "1.1_least_squares.ipynb",
   "provenance": [],
   "toc_visible": true
  },
  "kernelspec": {
   "display_name": "Python 3 (ipykernel)",
   "language": "python",
   "name": "python3"
  },
  "language_info": {
   "codemirror_mode": {
    "name": "ipython",
    "version": 3
   },
   "file_extension": ".py",
   "mimetype": "text/x-python",
   "name": "python",
   "nbconvert_exporter": "python",
   "pygments_lexer": "ipython3",
   "version": "3.12.3"
  }
 },
 "nbformat": 4,
 "nbformat_minor": 4
}
